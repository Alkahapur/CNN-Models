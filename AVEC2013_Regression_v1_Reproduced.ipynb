{
  "nbformat": 4,
  "nbformat_minor": 0,
  "metadata": {
    "colab": {
      "name": "AVEC2013_Regression_v1_Reproduced.ipynb",
      "provenance": [],
      "collapsed_sections": [],
      "authorship_tag": "ABX9TyN6laRIvoqmHB2+dX/61e/p",
      "include_colab_link": true
    },
    "kernelspec": {
      "name": "python3",
      "display_name": "Python 3"
    },
    "accelerator": "GPU"
  },
  "cells": [
    {
      "cell_type": "markdown",
      "metadata": {
        "id": "view-in-github",
        "colab_type": "text"
      },
      "source": [
        "<a href=\"https://colab.research.google.com/github/Alkahapur/CNN-Models/blob/main/AVEC2013_Regression_v1_Reproduced.ipynb\" target=\"_parent\"><img src=\"https://colab.research.google.com/assets/colab-badge.svg\" alt=\"Open In Colab\"/></a>"
      ]
    },
    {
      "cell_type": "code",
      "metadata": {
        "colab": {
          "base_uri": "https://localhost:8080/",
          "height": 35
        },
        "id": "8V8d4yfwudH7",
        "outputId": "2b5467ca-6b59-4ab7-ba27-c0a5c0a080ed"
      },
      "source": [
        "\r\n",
        "import tensorflow as tf\r\n",
        "tf.test.gpu_device_name()"
      ],
      "execution_count": 1,
      "outputs": [
        {
          "output_type": "execute_result",
          "data": {
            "application/vnd.google.colaboratory.intrinsic+json": {
              "type": "string"
            },
            "text/plain": [
              "'/device:GPU:0'"
            ]
          },
          "metadata": {
            "tags": []
          },
          "execution_count": 1
        }
      ]
    },
    {
      "cell_type": "code",
      "metadata": {
        "id": "llBjgnqwxUlz"
      },
      "source": [
        "import numpy as np\r\n",
        "import os\r\n",
        "import pandas as pd\r\n",
        "import glob\r\n",
        "import librosa\r\n",
        "import sys\r\n",
        "import seaborn as sns\r\n",
        "from tqdm import tqdm\r\n",
        "import time\r\n",
        "import matplotlib.pyplot as plt\r\n",
        "import tensorflow as tf\r\n",
        "from sklearn.model_selection import train_test_split, StratifiedKFold\r\n",
        "from sklearn.metrics import precision_recall_fscore_support, accuracy_score, classification_report\r\n",
        "np.random.seed(42)\r\n",
        "\r\n",
        "from tensorflow.keras.utils import to_categorical\r\n",
        "from tensorflow.keras.layers import Input, Dense, Flatten, Dropout, GaussianNoise, Reshape, Lambda, Concatenate\r\n",
        "from tensorflow.keras.layers import Conv2D, MaxPool2D, BatchNormalization, Activation, LSTM, GRU, Bidirectional\r\n",
        "from tensorflow.keras.activations import relu, softmax\r\n",
        "from tensorflow.keras.models import Sequential, Model\r\n",
        "from tensorflow.keras.optimizers import Adam\r\n",
        "from tensorflow.keras.callbacks import ModelCheckpoint, ReduceLROnPlateau\r\n",
        "from tensorflow.keras.layers.experimental.preprocessing import Resizing, Normalization\r\n",
        "from tensorflow.keras.preprocessing.image import ImageDataGenerator\r\n",
        "from tensorflow.keras.models import load_model\r\n",
        "\r\n",
        "from sklearn.metrics import confusion_matrix, classification_report\r\n",
        "from sklearn.utils import shuffle"
      ],
      "execution_count": 2,
      "outputs": []
    },
    {
      "cell_type": "code",
      "metadata": {
        "colab": {
          "base_uri": "https://localhost:8080/"
        },
        "id": "a3NHOufdxoYt",
        "outputId": "3cb42ad6-0626-4f18-8874-be473a249082"
      },
      "source": [
        "from google.colab import drive\r\n",
        "drive.mount('/content/gdrive')\r\n",
        "%cd /gdrive\r\n",
        "\r\n"
      ],
      "execution_count": 3,
      "outputs": [
        {
          "output_type": "stream",
          "text": [
            "Mounted at /content/gdrive\n",
            "[Errno 2] No such file or directory: '/gdrive'\n",
            "/content\n"
          ],
          "name": "stdout"
        }
      ]
    },
    {
      "cell_type": "code",
      "metadata": {
        "colab": {
          "base_uri": "https://localhost:8080/"
        },
        "id": "IJiNqIUGcQMR",
        "outputId": "82955ee2-9f4a-4948-fe8d-6dab714995ad"
      },
      "source": [
        "cd /content/gdrive/MyDrive/"
      ],
      "execution_count": 7,
      "outputs": [
        {
          "output_type": "stream",
          "text": [
            "/content/gdrive/MyDrive\n"
          ],
          "name": "stdout"
        }
      ]
    },
    {
      "cell_type": "code",
      "metadata": {
        "id": "CVKEaew8xt5T"
      },
      "source": [
        "wd = os.path.join(\"/content/gdrive/MyDrive/Lifeback/AVEC_2013\")\r\n",
        "wd\r\n",
        "train_audio_dir = os.path.join(wd, 'Training')\r\n",
        "train_labels_dir = os.path.join(wd, 'Training_DepressionLabels')\r\n",
        "\r\n",
        "dev_audio_dir = os.path.join(wd, 'Development')\r\n",
        "dev_labels_dir = os.path.join(wd, 'Development_DepressionLabels')\r\n",
        "\r\n",
        "test_audio_dir = os.path.join(wd, 'Testing_Audio')"
      ],
      "execution_count": 4,
      "outputs": []
    },
    {
      "cell_type": "code",
      "metadata": {
        "colab": {
          "base_uri": "https://localhost:8080/"
        },
        "id": "TgREe8bTyU9C",
        "outputId": "cb2be5dc-e1a4-42d9-f7c6-7a575a25a405"
      },
      "source": [
        "print (\"Train: Number of audio files = %d, Number of labels = %d\" %(len(os.listdir(train_audio_dir)), len(train_labels_dir)))\r\n",
        "print (\"Development: Number of audio files = %d, Number of labels = %d\" %(len(os.listdir(dev_audio_dir)), len(dev_labels_dir)))"
      ],
      "execution_count": 5,
      "outputs": [
        {
          "output_type": "stream",
          "text": [
            "Train: Number of audio files = 50, Number of labels = 68\n",
            "Development: Number of audio files = 51, Number of labels = 71\n"
          ],
          "name": "stdout"
        }
      ]
    },
    {
      "cell_type": "code",
      "metadata": {
        "colab": {
          "base_uri": "https://localhost:8080/"
        },
        "id": "ospWvJTkcxgc",
        "outputId": "5cfa30aa-7f8f-4e2b-fef5-c9d820a66e08"
      },
      "source": [
        "print (\"Number of Test files %d\" %len(os.listdir(test_audio_dir)))"
      ],
      "execution_count": 6,
      "outputs": [
        {
          "output_type": "stream",
          "text": [
            "Number of Test files 50\n"
          ],
          "name": "stdout"
        }
      ]
    },
    {
      "cell_type": "code",
      "metadata": {
        "colab": {
          "base_uri": "https://localhost:8080/"
        },
        "id": "TUZycOy1c2bN",
        "outputId": "2ee00e29-5b9e-47e2-d8b8-36f82b94ecec"
      },
      "source": [
        "train_paths = []\r\n",
        "train_labels = []\r\n",
        "\r\n",
        "train_audio_files = os.listdir(train_audio_dir)\r\n",
        "\r\n",
        "for i in range(len(train_audio_files)):\r\n",
        "  audio_file = train_audio_files[i]\r\n",
        "  id = '_'.join(audio_file.split('_')[:2])\r\n",
        "  \r\n",
        "  label_file = id + \"_Depression.csv\"\r\n",
        "  with open(os.path.join(train_labels_dir,label_file),'r') as f:\r\n",
        "    label = int(f.read())\r\n",
        "\r\n",
        "  path1 = os.path.join(train_audio_dir,audio_file)\r\n",
        "  #print (audio_file, id, label, path1)\r\n",
        "\r\n",
        "  if path1 not in train_paths:\r\n",
        "    if (not os.path.isfile(path1)):\r\n",
        "      print (\"%s does not exist\" %path1)\r\n",
        "    else:\r\n",
        "      train_paths.append(path1)\r\n",
        "      train_labels.append(label)\r\n",
        "\r\n",
        "print (\"Training set has a total of %d unique labelled clips\" %len(train_paths))"
      ],
      "execution_count": 7,
      "outputs": [
        {
          "output_type": "stream",
          "text": [
            "Training set has a total of 50 unique labelled clips\n"
          ],
          "name": "stdout"
        }
      ]
    },
    {
      "cell_type": "code",
      "metadata": {
        "colab": {
          "base_uri": "https://localhost:8080/"
        },
        "id": "tT-VEE7Gc9JY",
        "outputId": "8b8e03a3-d2b3-42e9-ddfb-8b3f32089669"
      },
      "source": [
        "dev_paths = []\r\n",
        "dev_labels = []\r\n",
        "\r\n",
        "dev_audio_files = os.listdir(dev_audio_dir)\r\n",
        "\r\n",
        "for i in range(len(dev_audio_files)):\r\n",
        "  audio_file = dev_audio_files[i]\r\n",
        "  id = '_'.join(audio_file.split('_')[:2])\r\n",
        "  \r\n",
        "  label_file = id + \"_Depression.csv\"\r\n",
        "  with open(os.path.join(dev_labels_dir,label_file),'r') as f:\r\n",
        "    label = int(f.read())\r\n",
        "\r\n",
        "  path1 = os.path.join(dev_audio_dir,audio_file)\r\n",
        "  #print (audio_file, id, label, path1)\r\n",
        "\r\n",
        "  if path1 not in dev_paths:\r\n",
        "    if (not os.path.isfile(path1)):\r\n",
        "      print (\"%s does not exist\" %path1)\r\n",
        "    else:\r\n",
        "      dev_paths.append(path1)\r\n",
        "      dev_labels.append(label)\r\n",
        "\r\n",
        "print (\"Development set has a total of %d unique labelled clips\" %len(dev_paths))"
      ],
      "execution_count": 8,
      "outputs": [
        {
          "output_type": "stream",
          "text": [
            "Development set has a total of 51 unique labelled clips\n"
          ],
          "name": "stdout"
        }
      ]
    },
    {
      "cell_type": "code",
      "metadata": {
        "id": "lV4QlyJ6dDCe"
      },
      "source": [
        "\r\n",
        "train_data = pd.DataFrame({'Path':train_paths, 'BDI':train_labels})\r\n",
        "dev_data = pd.DataFrame({'Path':dev_paths, 'BDI':dev_labels})"
      ],
      "execution_count": 9,
      "outputs": []
    },
    {
      "cell_type": "code",
      "metadata": {
        "colab": {
          "base_uri": "https://localhost:8080/",
          "height": 335
        },
        "id": "2s3TxXPAdG2k",
        "outputId": "cea3dad3-4ae8-48d8-ac5a-1b58620d5505"
      },
      "source": [
        "sns.distplot(train_data['BDI'].values)\r\n"
      ],
      "execution_count": 10,
      "outputs": [
        {
          "output_type": "stream",
          "text": [
            "/usr/local/lib/python3.7/dist-packages/seaborn/distributions.py:2557: FutureWarning: `distplot` is a deprecated function and will be removed in a future version. Please adapt your code to use either `displot` (a figure-level function with similar flexibility) or `histplot` (an axes-level function for histograms).\n",
            "  warnings.warn(msg, FutureWarning)\n"
          ],
          "name": "stderr"
        },
        {
          "output_type": "execute_result",
          "data": {
            "text/plain": [
              "<matplotlib.axes._subplots.AxesSubplot at 0x7f7cef4fcf90>"
            ]
          },
          "metadata": {
            "tags": []
          },
          "execution_count": 10
        },
        {
          "output_type": "display_data",
          "data": {
            "image/png": "[encoded data removed]",
            "text/plain": [
              "<Figure size 432x288 with 1 Axes>"
            ]
          },
          "metadata": {
            "tags": [],
            "needs_background": "light"
          }
        }
      ]
    },
    {
      "cell_type": "code",
      "metadata": {
        "colab": {
          "base_uri": "https://localhost:8080/",
          "height": 335
        },
        "id": "MyIyRBQMdKQu",
        "outputId": "b83b0531-0138-4af1-8507-70e22a39b1ae"
      },
      "source": [
        "sns.distplot(dev_data['BDI'].values)"
      ],
      "execution_count": 11,
      "outputs": [
        {
          "output_type": "stream",
          "text": [
            "/usr/local/lib/python3.7/dist-packages/seaborn/distributions.py:2557: FutureWarning: `distplot` is a deprecated function and will be removed in a future version. Please adapt your code to use either `displot` (a figure-level function with similar flexibility) or `histplot` (an axes-level function for histograms).\n",
            "  warnings.warn(msg, FutureWarning)\n"
          ],
          "name": "stderr"
        },
        {
          "output_type": "execute_result",
          "data": {
            "text/plain": [
              "<matplotlib.axes._subplots.AxesSubplot at 0x7f7ced527f10>"
            ]
          },
          "metadata": {
            "tags": []
          },
          "execution_count": 11
        },
        {
          "output_type": "display_data",
          "data": {
            "image/png": "[encoded data removed]",
            "text/plain": [
              "<Figure size 432x288 with 1 Axes>"
            ]
          },
          "metadata": {
            "tags": [],
            "needs_background": "light"
          }
        }
      ]
    },
    {
      "cell_type": "code",
      "metadata": {
        "id": "VUPSvoFTdRh2"
      },
      "source": [
        "\r\n",
        "def clip_audio(audio, sr, t_min, t_max):\r\n",
        "    segment_start = np.int(np.floor(sr*t_min))\r\n",
        "    segment_end = np.int(np.ceil(sr*t_max))\r\n",
        "    return audio[segment_start:segment_end]"
      ],
      "execution_count": 13,
      "outputs": []
    },
    {
      "cell_type": "code",
      "metadata": {
        "id": "YJDeLqcudV0_"
      },
      "source": [
        "def mel_spectrogram(audio, sr, n_mels = 90):\r\n",
        "    melspec = librosa.feature.melspectrogram(\r\n",
        "        audio, sr=sr, n_mels=n_mels\r\n",
        "    )\r\n",
        "\r\n",
        "    melspec = librosa.power_to_db(melspec).astype(np.float32)\r\n",
        "    return melspec"
      ],
      "execution_count": 14,
      "outputs": []
    },
    {
      "cell_type": "code",
      "metadata": {
        "colab": {
          "base_uri": "https://localhost:8080/"
        },
        "id": "EfvoHAbLda4t",
        "outputId": "5b629c1d-f2d4-44bb-b6b0-d895f53a90b1"
      },
      "source": [
        "\r\n",
        "X = []\r\n",
        "y = []\r\n",
        "\r\n",
        "SEGMENT_SIZE = 60 \r\n",
        "SEGMENT_STRIDE = 30\r\n",
        "INPUT_SHAPE = 256\r\n",
        "\r\n",
        "paths = train_data['Path'].values\r\n",
        "labels = train_data['BDI'].values\r\n",
        "\r\n",
        "start_time = time.time()\r\n",
        "for i in range(len(paths)):\r\n",
        "  path = paths[i]\r\n",
        "  label = labels[i]\r\n",
        "\r\n",
        "  audio, sr = librosa.core.load(path)\r\n",
        "  duration = audio.shape[0]/sr\r\n",
        "\r\n",
        "  t_min = 0\r\n",
        "  finish = False\r\n",
        "  print (\"Dividing audio %d\" %(i+1))\r\n",
        "  while t_min < duration:\r\n",
        "    t_max = t_min + SEGMENT_SIZE\r\n",
        "    \r\n",
        "    if t_max > duration:\r\n",
        "      t_max = duration\r\n",
        "      finish = True\r\n",
        "\r\n",
        "    audio_clipped = clip_audio(audio, sr, t_min, t_max)\r\n",
        "    mel_spec = mel_spectrogram(audio_clipped, sr)\r\n",
        "    \r\n",
        "    img = tf.image.resize(mel_spec[...,np.newaxis],(INPUT_SHAPE, INPUT_SHAPE))\r\n",
        "\r\n",
        "    X.append(img)\r\n",
        "    y.append(label)\r\n",
        "\r\n",
        "    if finish==True:\r\n",
        "      break\r\n",
        "\r\n",
        "    t_min = t_min + SEGMENT_STRIDE\r\n",
        "\r\n",
        "X = np.array(X)\r\n",
        "y = np.array(y)\r\n",
        "\r\n",
        "print (X.shape, y.shape)\r\n",
        "\r\n",
        "end_time = time.time()\r\n",
        "print (\"Time taken = %.3f minutes\" %((end_time-start_time)/60))"
      ],
      "execution_count": 15,
      "outputs": [
        {
          "output_type": "stream",
          "text": [
            "/usr/local/lib/python3.7/dist-packages/librosa/core/audio.py:162: UserWarning: PySoundFile failed. Trying audioread instead.\n",
            "  warnings.warn(\"PySoundFile failed. Trying audioread instead.\")\n"
          ],
          "name": "stderr"
        },
        {
          "output_type": "stream",
          "text": [
            "Dividing audio 1\n"
          ],
          "name": "stdout"
        },
        {
          "output_type": "stream",
          "text": [
            "/usr/local/lib/python3.7/dist-packages/librosa/core/audio.py:162: UserWarning: PySoundFile failed. Trying audioread instead.\n",
            "  warnings.warn(\"PySoundFile failed. Trying audioread instead.\")\n"
          ],
          "name": "stderr"
        },
        {
          "output_type": "stream",
          "text": [
            "Dividing audio 2\n"
          ],
          "name": "stdout"
        },
        {
          "output_type": "stream",
          "text": [
            "/usr/local/lib/python3.7/dist-packages/librosa/core/audio.py:162: UserWarning: PySoundFile failed. Trying audioread instead.\n",
            "  warnings.warn(\"PySoundFile failed. Trying audioread instead.\")\n"
          ],
          "name": "stderr"
        },
        {
          "output_type": "stream",
          "text": [
            "Dividing audio 3\n"
          ],
          "name": "stdout"
        },
        {
          "output_type": "stream",
          "text": [
            "/usr/local/lib/python3.7/dist-packages/librosa/core/audio.py:162: UserWarning: PySoundFile failed. Trying audioread instead.\n",
            "  warnings.warn(\"PySoundFile failed. Trying audioread instead.\")\n"
          ],
          "name": "stderr"
        },
        {
          "output_type": "stream",
          "text": [
            "Dividing audio 4\n"
          ],
          "name": "stdout"
        },
        {
          "output_type": "stream",
          "text": [
            "/usr/local/lib/python3.7/dist-packages/librosa/core/audio.py:162: UserWarning: PySoundFile failed. Trying audioread instead.\n",
            "  warnings.warn(\"PySoundFile failed. Trying audioread instead.\")\n"
          ],
          "name": "stderr"
        },
        {
          "output_type": "stream",
          "text": [
            "Dividing audio 5\n"
          ],
          "name": "stdout"
        },
        {
          "output_type": "stream",
          "text": [
            "/usr/local/lib/python3.7/dist-packages/librosa/core/audio.py:162: UserWarning: PySoundFile failed. Trying audioread instead.\n",
            "  warnings.warn(\"PySoundFile failed. Trying audioread instead.\")\n"
          ],
          "name": "stderr"
        },
        {
          "output_type": "stream",
          "text": [
            "Dividing audio 6\n"
          ],
          "name": "stdout"
        },
        {
          "output_type": "stream",
          "text": [
            "/usr/local/lib/python3.7/dist-packages/librosa/core/audio.py:162: UserWarning: PySoundFile failed. Trying audioread instead.\n",
            "  warnings.warn(\"PySoundFile failed. Trying audioread instead.\")\n"
          ],
          "name": "stderr"
        },
        {
          "output_type": "stream",
          "text": [
            "Dividing audio 7\n"
          ],
          "name": "stdout"
        },
        {
          "output_type": "stream",
          "text": [
            "/usr/local/lib/python3.7/dist-packages/librosa/core/audio.py:162: UserWarning: PySoundFile failed. Trying audioread instead.\n",
            "  warnings.warn(\"PySoundFile failed. Trying audioread instead.\")\n"
          ],
          "name": "stderr"
        },
        {
          "output_type": "stream",
          "text": [
            "Dividing audio 8\n"
          ],
          "name": "stdout"
        },
        {
          "output_type": "stream",
          "text": [
            "/usr/local/lib/python3.7/dist-packages/librosa/core/audio.py:162: UserWarning: PySoundFile failed. Trying audioread instead.\n",
            "  warnings.warn(\"PySoundFile failed. Trying audioread instead.\")\n"
          ],
          "name": "stderr"
        },
        {
          "output_type": "stream",
          "text": [
            "Dividing audio 9\n"
          ],
          "name": "stdout"
        },
        {
          "output_type": "stream",
          "text": [
            "/usr/local/lib/python3.7/dist-packages/librosa/core/audio.py:162: UserWarning: PySoundFile failed. Trying audioread instead.\n",
            "  warnings.warn(\"PySoundFile failed. Trying audioread instead.\")\n"
          ],
          "name": "stderr"
        },
        {
          "output_type": "stream",
          "text": [
            "Dividing audio 10\n"
          ],
          "name": "stdout"
        },
        {
          "output_type": "stream",
          "text": [
            "/usr/local/lib/python3.7/dist-packages/librosa/core/audio.py:162: UserWarning: PySoundFile failed. Trying audioread instead.\n",
            "  warnings.warn(\"PySoundFile failed. Trying audioread instead.\")\n"
          ],
          "name": "stderr"
        },
        {
          "output_type": "stream",
          "text": [
            "Dividing audio 11\n"
          ],
          "name": "stdout"
        },
        {
          "output_type": "stream",
          "text": [
            "/usr/local/lib/python3.7/dist-packages/librosa/core/audio.py:162: UserWarning: PySoundFile failed. Trying audioread instead.\n",
            "  warnings.warn(\"PySoundFile failed. Trying audioread instead.\")\n"
          ],
          "name": "stderr"
        },
        {
          "output_type": "stream",
          "text": [
            "Dividing audio 12\n"
          ],
          "name": "stdout"
        },
        {
          "output_type": "stream",
          "text": [
            "/usr/local/lib/python3.7/dist-packages/librosa/core/audio.py:162: UserWarning: PySoundFile failed. Trying audioread instead.\n",
            "  warnings.warn(\"PySoundFile failed. Trying audioread instead.\")\n"
          ],
          "name": "stderr"
        },
        {
          "output_type": "stream",
          "text": [
            "Dividing audio 13\n"
          ],
          "name": "stdout"
        },
        {
          "output_type": "stream",
          "text": [
            "/usr/local/lib/python3.7/dist-packages/librosa/core/audio.py:162: UserWarning: PySoundFile failed. Trying audioread instead.\n",
            "  warnings.warn(\"PySoundFile failed. Trying audioread instead.\")\n"
          ],
          "name": "stderr"
        },
        {
          "output_type": "stream",
          "text": [
            "Dividing audio 14\n"
          ],
          "name": "stdout"
        },
        {
          "output_type": "stream",
          "text": [
            "/usr/local/lib/python3.7/dist-packages/librosa/core/audio.py:162: UserWarning: PySoundFile failed. Trying audioread instead.\n",
            "  warnings.warn(\"PySoundFile failed. Trying audioread instead.\")\n"
          ],
          "name": "stderr"
        },
        {
          "output_type": "stream",
          "text": [
            "Dividing audio 15\n"
          ],
          "name": "stdout"
        },
        {
          "output_type": "stream",
          "text": [
            "/usr/local/lib/python3.7/dist-packages/librosa/core/audio.py:162: UserWarning: PySoundFile failed. Trying audioread instead.\n",
            "  warnings.warn(\"PySoundFile failed. Trying audioread instead.\")\n"
          ],
          "name": "stderr"
        },
        {
          "output_type": "stream",
          "text": [
            "Dividing audio 16\n"
          ],
          "name": "stdout"
        },
        {
          "output_type": "stream",
          "text": [
            "/usr/local/lib/python3.7/dist-packages/librosa/core/audio.py:162: UserWarning: PySoundFile failed. Trying audioread instead.\n",
            "  warnings.warn(\"PySoundFile failed. Trying audioread instead.\")\n"
          ],
          "name": "stderr"
        },
        {
          "output_type": "stream",
          "text": [
            "Dividing audio 17\n"
          ],
          "name": "stdout"
        },
        {
          "output_type": "stream",
          "text": [
            "/usr/local/lib/python3.7/dist-packages/librosa/core/audio.py:162: UserWarning: PySoundFile failed. Trying audioread instead.\n",
            "  warnings.warn(\"PySoundFile failed. Trying audioread instead.\")\n"
          ],
          "name": "stderr"
        },
        {
          "output_type": "stream",
          "text": [
            "Dividing audio 18\n"
          ],
          "name": "stdout"
        },
        {
          "output_type": "stream",
          "text": [
            "/usr/local/lib/python3.7/dist-packages/librosa/core/audio.py:162: UserWarning: PySoundFile failed. Trying audioread instead.\n",
            "  warnings.warn(\"PySoundFile failed. Trying audioread instead.\")\n"
          ],
          "name": "stderr"
        },
        {
          "output_type": "stream",
          "text": [
            "Dividing audio 19\n"
          ],
          "name": "stdout"
        },
        {
          "output_type": "stream",
          "text": [
            "/usr/local/lib/python3.7/dist-packages/librosa/core/audio.py:162: UserWarning: PySoundFile failed. Trying audioread instead.\n",
            "  warnings.warn(\"PySoundFile failed. Trying audioread instead.\")\n"
          ],
          "name": "stderr"
        },
        {
          "output_type": "stream",
          "text": [
            "Dividing audio 20\n"
          ],
          "name": "stdout"
        },
        {
          "output_type": "stream",
          "text": [
            "/usr/local/lib/python3.7/dist-packages/librosa/core/audio.py:162: UserWarning: PySoundFile failed. Trying audioread instead.\n",
            "  warnings.warn(\"PySoundFile failed. Trying audioread instead.\")\n"
          ],
          "name": "stderr"
        },
        {
          "output_type": "stream",
          "text": [
            "Dividing audio 21\n"
          ],
          "name": "stdout"
        },
        {
          "output_type": "stream",
          "text": [
            "/usr/local/lib/python3.7/dist-packages/librosa/core/audio.py:162: UserWarning: PySoundFile failed. Trying audioread instead.\n",
            "  warnings.warn(\"PySoundFile failed. Trying audioread instead.\")\n"
          ],
          "name": "stderr"
        },
        {
          "output_type": "stream",
          "text": [
            "Dividing audio 22\n"
          ],
          "name": "stdout"
        },
        {
          "output_type": "stream",
          "text": [
            "/usr/local/lib/python3.7/dist-packages/librosa/core/audio.py:162: UserWarning: PySoundFile failed. Trying audioread instead.\n",
            "  warnings.warn(\"PySoundFile failed. Trying audioread instead.\")\n"
          ],
          "name": "stderr"
        },
        {
          "output_type": "stream",
          "text": [
            "Dividing audio 23\n"
          ],
          "name": "stdout"
        },
        {
          "output_type": "stream",
          "text": [
            "/usr/local/lib/python3.7/dist-packages/librosa/core/audio.py:162: UserWarning: PySoundFile failed. Trying audioread instead.\n",
            "  warnings.warn(\"PySoundFile failed. Trying audioread instead.\")\n"
          ],
          "name": "stderr"
        },
        {
          "output_type": "stream",
          "text": [
            "Dividing audio 24\n"
          ],
          "name": "stdout"
        },
        {
          "output_type": "stream",
          "text": [
            "/usr/local/lib/python3.7/dist-packages/librosa/core/audio.py:162: UserWarning: PySoundFile failed. Trying audioread instead.\n",
            "  warnings.warn(\"PySoundFile failed. Trying audioread instead.\")\n"
          ],
          "name": "stderr"
        },
        {
          "output_type": "stream",
          "text": [
            "Dividing audio 25\n"
          ],
          "name": "stdout"
        },
        {
          "output_type": "stream",
          "text": [
            "/usr/local/lib/python3.7/dist-packages/librosa/core/audio.py:162: UserWarning: PySoundFile failed. Trying audioread instead.\n",
            "  warnings.warn(\"PySoundFile failed. Trying audioread instead.\")\n"
          ],
          "name": "stderr"
        },
        {
          "output_type": "stream",
          "text": [
            "Dividing audio 26\n"
          ],
          "name": "stdout"
        },
        {
          "output_type": "stream",
          "text": [
            "/usr/local/lib/python3.7/dist-packages/librosa/core/audio.py:162: UserWarning: PySoundFile failed. Trying audioread instead.\n",
            "  warnings.warn(\"PySoundFile failed. Trying audioread instead.\")\n"
          ],
          "name": "stderr"
        },
        {
          "output_type": "stream",
          "text": [
            "Dividing audio 27\n"
          ],
          "name": "stdout"
        },
        {
          "output_type": "stream",
          "text": [
            "/usr/local/lib/python3.7/dist-packages/librosa/core/audio.py:162: UserWarning: PySoundFile failed. Trying audioread instead.\n",
            "  warnings.warn(\"PySoundFile failed. Trying audioread instead.\")\n"
          ],
          "name": "stderr"
        },
        {
          "output_type": "stream",
          "text": [
            "Dividing audio 28\n"
          ],
          "name": "stdout"
        },
        {
          "output_type": "stream",
          "text": [
            "/usr/local/lib/python3.7/dist-packages/librosa/core/audio.py:162: UserWarning: PySoundFile failed. Trying audioread instead.\n",
            "  warnings.warn(\"PySoundFile failed. Trying audioread instead.\")\n"
          ],
          "name": "stderr"
        },
        {
          "output_type": "stream",
          "text": [
            "Dividing audio 29\n"
          ],
          "name": "stdout"
        },
        {
          "output_type": "stream",
          "text": [
            "/usr/local/lib/python3.7/dist-packages/librosa/core/audio.py:162: UserWarning: PySoundFile failed. Trying audioread instead.\n",
            "  warnings.warn(\"PySoundFile failed. Trying audioread instead.\")\n"
          ],
          "name": "stderr"
        },
        {
          "output_type": "stream",
          "text": [
            "Dividing audio 30\n"
          ],
          "name": "stdout"
        },
        {
          "output_type": "stream",
          "text": [
            "/usr/local/lib/python3.7/dist-packages/librosa/core/audio.py:162: UserWarning: PySoundFile failed. Trying audioread instead.\n",
            "  warnings.warn(\"PySoundFile failed. Trying audioread instead.\")\n"
          ],
          "name": "stderr"
        },
        {
          "output_type": "stream",
          "text": [
            "Dividing audio 31\n"
          ],
          "name": "stdout"
        },
        {
          "output_type": "stream",
          "text": [
            "/usr/local/lib/python3.7/dist-packages/librosa/core/audio.py:162: UserWarning: PySoundFile failed. Trying audioread instead.\n",
            "  warnings.warn(\"PySoundFile failed. Trying audioread instead.\")\n"
          ],
          "name": "stderr"
        },
        {
          "output_type": "stream",
          "text": [
            "Dividing audio 32\n"
          ],
          "name": "stdout"
        },
        {
          "output_type": "stream",
          "text": [
            "/usr/local/lib/python3.7/dist-packages/librosa/core/audio.py:162: UserWarning: PySoundFile failed. Trying audioread instead.\n",
            "  warnings.warn(\"PySoundFile failed. Trying audioread instead.\")\n"
          ],
          "name": "stderr"
        },
        {
          "output_type": "stream",
          "text": [
            "Dividing audio 33\n"
          ],
          "name": "stdout"
        },
        {
          "output_type": "stream",
          "text": [
            "/usr/local/lib/python3.7/dist-packages/librosa/core/audio.py:162: UserWarning: PySoundFile failed. Trying audioread instead.\n",
            "  warnings.warn(\"PySoundFile failed. Trying audioread instead.\")\n"
          ],
          "name": "stderr"
        },
        {
          "output_type": "stream",
          "text": [
            "Dividing audio 34\n"
          ],
          "name": "stdout"
        },
        {
          "output_type": "stream",
          "text": [
            "/usr/local/lib/python3.7/dist-packages/librosa/core/audio.py:162: UserWarning: PySoundFile failed. Trying audioread instead.\n",
            "  warnings.warn(\"PySoundFile failed. Trying audioread instead.\")\n"
          ],
          "name": "stderr"
        },
        {
          "output_type": "stream",
          "text": [
            "Dividing audio 35\n"
          ],
          "name": "stdout"
        },
        {
          "output_type": "stream",
          "text": [
            "/usr/local/lib/python3.7/dist-packages/librosa/core/audio.py:162: UserWarning: PySoundFile failed. Trying audioread instead.\n",
            "  warnings.warn(\"PySoundFile failed. Trying audioread instead.\")\n"
          ],
          "name": "stderr"
        },
        {
          "output_type": "stream",
          "text": [
            "Dividing audio 36\n"
          ],
          "name": "stdout"
        },
        {
          "output_type": "stream",
          "text": [
            "/usr/local/lib/python3.7/dist-packages/librosa/core/audio.py:162: UserWarning: PySoundFile failed. Trying audioread instead.\n",
            "  warnings.warn(\"PySoundFile failed. Trying audioread instead.\")\n"
          ],
          "name": "stderr"
        },
        {
          "output_type": "stream",
          "text": [
            "Dividing audio 37\n"
          ],
          "name": "stdout"
        },
        {
          "output_type": "stream",
          "text": [
            "/usr/local/lib/python3.7/dist-packages/librosa/core/audio.py:162: UserWarning: PySoundFile failed. Trying audioread instead.\n",
            "  warnings.warn(\"PySoundFile failed. Trying audioread instead.\")\n"
          ],
          "name": "stderr"
        },
        {
          "output_type": "stream",
          "text": [
            "Dividing audio 38\n"
          ],
          "name": "stdout"
        },
        {
          "output_type": "stream",
          "text": [
            "/usr/local/lib/python3.7/dist-packages/librosa/core/audio.py:162: UserWarning: PySoundFile failed. Trying audioread instead.\n",
            "  warnings.warn(\"PySoundFile failed. Trying audioread instead.\")\n"
          ],
          "name": "stderr"
        },
        {
          "output_type": "stream",
          "text": [
            "Dividing audio 39\n"
          ],
          "name": "stdout"
        },
        {
          "output_type": "stream",
          "text": [
            "/usr/local/lib/python3.7/dist-packages/librosa/core/audio.py:162: UserWarning: PySoundFile failed. Trying audioread instead.\n",
            "  warnings.warn(\"PySoundFile failed. Trying audioread instead.\")\n"
          ],
          "name": "stderr"
        },
        {
          "output_type": "stream",
          "text": [
            "Dividing audio 40\n"
          ],
          "name": "stdout"
        },
        {
          "output_type": "stream",
          "text": [
            "/usr/local/lib/python3.7/dist-packages/librosa/core/audio.py:162: UserWarning: PySoundFile failed. Trying audioread instead.\n",
            "  warnings.warn(\"PySoundFile failed. Trying audioread instead.\")\n"
          ],
          "name": "stderr"
        },
        {
          "output_type": "stream",
          "text": [
            "Dividing audio 41\n"
          ],
          "name": "stdout"
        },
        {
          "output_type": "stream",
          "text": [
            "/usr/local/lib/python3.7/dist-packages/librosa/core/audio.py:162: UserWarning: PySoundFile failed. Trying audioread instead.\n",
            "  warnings.warn(\"PySoundFile failed. Trying audioread instead.\")\n"
          ],
          "name": "stderr"
        },
        {
          "output_type": "stream",
          "text": [
            "Dividing audio 42\n"
          ],
          "name": "stdout"
        },
        {
          "output_type": "stream",
          "text": [
            "/usr/local/lib/python3.7/dist-packages/librosa/core/audio.py:162: UserWarning: PySoundFile failed. Trying audioread instead.\n",
            "  warnings.warn(\"PySoundFile failed. Trying audioread instead.\")\n"
          ],
          "name": "stderr"
        },
        {
          "output_type": "stream",
          "text": [
            "Dividing audio 43\n"
          ],
          "name": "stdout"
        },
        {
          "output_type": "stream",
          "text": [
            "/usr/local/lib/python3.7/dist-packages/librosa/core/audio.py:162: UserWarning: PySoundFile failed. Trying audioread instead.\n",
            "  warnings.warn(\"PySoundFile failed. Trying audioread instead.\")\n"
          ],
          "name": "stderr"
        },
        {
          "output_type": "stream",
          "text": [
            "Dividing audio 44\n"
          ],
          "name": "stdout"
        },
        {
          "output_type": "stream",
          "text": [
            "/usr/local/lib/python3.7/dist-packages/librosa/core/audio.py:162: UserWarning: PySoundFile failed. Trying audioread instead.\n",
            "  warnings.warn(\"PySoundFile failed. Trying audioread instead.\")\n"
          ],
          "name": "stderr"
        },
        {
          "output_type": "stream",
          "text": [
            "Dividing audio 45\n"
          ],
          "name": "stdout"
        },
        {
          "output_type": "stream",
          "text": [
            "/usr/local/lib/python3.7/dist-packages/librosa/core/audio.py:162: UserWarning: PySoundFile failed. Trying audioread instead.\n",
            "  warnings.warn(\"PySoundFile failed. Trying audioread instead.\")\n"
          ],
          "name": "stderr"
        },
        {
          "output_type": "stream",
          "text": [
            "Dividing audio 46\n"
          ],
          "name": "stdout"
        },
        {
          "output_type": "stream",
          "text": [
            "/usr/local/lib/python3.7/dist-packages/librosa/core/audio.py:162: UserWarning: PySoundFile failed. Trying audioread instead.\n",
            "  warnings.warn(\"PySoundFile failed. Trying audioread instead.\")\n"
          ],
          "name": "stderr"
        },
        {
          "output_type": "stream",
          "text": [
            "Dividing audio 47\n"
          ],
          "name": "stdout"
        },
        {
          "output_type": "stream",
          "text": [
            "/usr/local/lib/python3.7/dist-packages/librosa/core/audio.py:162: UserWarning: PySoundFile failed. Trying audioread instead.\n",
            "  warnings.warn(\"PySoundFile failed. Trying audioread instead.\")\n"
          ],
          "name": "stderr"
        },
        {
          "output_type": "stream",
          "text": [
            "Dividing audio 48\n"
          ],
          "name": "stdout"
        },
        {
          "output_type": "stream",
          "text": [
            "/usr/local/lib/python3.7/dist-packages/librosa/core/audio.py:162: UserWarning: PySoundFile failed. Trying audioread instead.\n",
            "  warnings.warn(\"PySoundFile failed. Trying audioread instead.\")\n"
          ],
          "name": "stderr"
        },
        {
          "output_type": "stream",
          "text": [
            "Dividing audio 49\n"
          ],
          "name": "stdout"
        },
        {
          "output_type": "stream",
          "text": [
            "/usr/local/lib/python3.7/dist-packages/librosa/core/audio.py:162: UserWarning: PySoundFile failed. Trying audioread instead.\n",
            "  warnings.warn(\"PySoundFile failed. Trying audioread instead.\")\n"
          ],
          "name": "stderr"
        },
        {
          "output_type": "stream",
          "text": [
            "Dividing audio 50\n",
            "(1567, 256, 256, 1) (1567,)\n",
            "Time taken = 31.628 minutes\n"
          ],
          "name": "stdout"
        }
      ]
    },
    {
      "cell_type": "code",
      "metadata": {
        "colab": {
          "base_uri": "https://localhost:8080/"
        },
        "id": "EKLFSaLKdsq0",
        "outputId": "6f52fff0-7628-4437-9a6d-3dd6248a2c93"
      },
      "source": [
        "train_x, valid_x, train_y, valid_y = train_test_split(X,y, test_size = 0.2, random_state = 42, stratify = y)\r\n",
        "print (train_x.shape, train_y.shape, valid_x.shape, valid_y.shape)"
      ],
      "execution_count": 16,
      "outputs": [
        {
          "output_type": "stream",
          "text": [
            "(1253, 256, 256, 1) (1253,) (314, 256, 256, 1) (314,)\n"
          ],
          "name": "stdout"
        }
      ]
    },
    {
      "cell_type": "code",
      "metadata": {
        "id": "fa8K5eoKd02j"
      },
      "source": [
        "\r\n",
        "def create_model(input_shape = (INPUT_SHAPE,INPUT_SHAPE,1)):\r\n",
        "  model = Sequential()\r\n",
        "  model.add(Input(shape = input_shape))\r\n",
        "   \r\n",
        "  model.add(Conv2D(32, (5,5), kernel_initializer = 'he_normal', padding = 'same'))\r\n",
        "  #model.add(GaussianNoise(0.3))\r\n",
        "  model.add(BatchNormalization())\r\n",
        "  model.add(Activation('relu'))\r\n",
        "  model.add(MaxPool2D((2,2)))\r\n",
        "  \r\n",
        "  model.add(Conv2D(64, kernel_size = (3,3), padding = 'same'))\r\n",
        "  #model.add(GaussianNoise(0.3))\r\n",
        "  model.add(BatchNormalization())\r\n",
        "  model.add(Activation('relu'))\r\n",
        "  model.add(MaxPool2D((2,2)))\r\n",
        "  model.add(Dropout(0.2))\r\n",
        "\r\n",
        "  model.add(Conv2D(128, kernel_size = (3,3), padding = 'same'))\r\n",
        "  #model.add(GaussianNoise(0.3))\r\n",
        "  model.add(BatchNormalization())\r\n",
        "  model.add(Activation('relu'))\r\n",
        "  model.add(MaxPool2D((2,2)))\r\n",
        "  model.add(Dropout(0.2))\r\n",
        "\r\n",
        "  model.add(Conv2D(256, kernel_size = (3,3),  padding = 'same'))\r\n",
        "  model.add(BatchNormalization())\r\n",
        "  model.add(Activation('relu'))\r\n",
        "  model.add(MaxPool2D((2,2)))\r\n",
        "  model.add(Dropout(0.2))\r\n",
        "\r\n",
        "\r\n",
        "  model.add(Flatten())\r\n",
        "\r\n",
        "  model.add(Dense(512, kernel_initializer = 'he_normal'))\r\n",
        "  model.add(BatchNormalization())\r\n",
        "  model.add(Activation('relu'))\r\n",
        "  model.add(Dropout(0.3))\r\n",
        "\r\n",
        "  model.add(Dense(64))\r\n",
        "  model.add(BatchNormalization())\r\n",
        "  model.add(Activation('relu'))\r\n",
        "  model.add(Dropout(0.3))\r\n",
        "\r\n",
        "  #model.add(Dense(1, activation = 'sigmoid'))\r\n",
        "  model.add(Dense(1, activation = 'linear'))\r\n",
        "\r\n",
        "  optim = Adam(learning_rate = 0.0007)\r\n",
        "  model.compile(loss = 'mse', optimizer = optim, metrics = ['mae'])\r\n",
        "  #model.summary()\r\n",
        "  return model"
      ],
      "execution_count": 17,
      "outputs": []
    },
    {
      "cell_type": "code",
      "metadata": {
        "colab": {
          "base_uri": "https://localhost:8080/"
        },
        "id": "AK73KPH7d48T",
        "outputId": "f0eae887-aeba-438d-d10d-029599273d02"
      },
      "source": [
        "train_generator = ImageDataGenerator(width_shift_range=0.2,\r\n",
        "                                      zoom_range = 0.2, \r\n",
        "                                     horizontal_flip = True\r\n",
        "                                     )\r\n",
        "\r\n",
        "model = create_model()  \r\n",
        "model_checkpoint = os.path.join(wd, 'baseline_model.hdf5')\r\n",
        "cp = ModelCheckpoint(model_checkpoint, monitor = 'val_loss', mode = 'auto', verbose = 0, save_best_only = True)\r\n",
        "\r\n",
        "lr = ReduceLROnPlateau(\r\n",
        "    monitor='val_loss', factor=0.3, patience=5, verbose=0,\r\n",
        "    mode='auto')\r\n",
        "\r\n",
        "callbacks = [cp, lr]\r\n",
        "\r\n",
        "\r\n",
        "history = model.fit(train_generator.flow(train_x, train_y, batch_size = 32), epochs = 70, callbacks = callbacks, validation_data = (valid_x, valid_y))"
      ],
      "execution_count": 18,
      "outputs": [
        {
          "output_type": "stream",
          "text": [
            "Epoch 1/70\n",
            "40/40 [==============================] - 16s 188ms/step - loss: 314.4380 - mae: 13.8647 - val_loss: 865.2402 - val_mae: 27.1450\n",
            "Epoch 2/70\n",
            "40/40 [==============================] - 7s 173ms/step - loss: 314.0455 - mae: 13.9921 - val_loss: 343.9702 - val_mae: 14.7515\n",
            "Epoch 3/70\n",
            "40/40 [==============================] - 7s 177ms/step - loss: 282.1486 - mae: 13.1455 - val_loss: 275.5070 - val_mae: 12.8125\n",
            "Epoch 4/70\n",
            "40/40 [==============================] - 7s 173ms/step - loss: 228.6117 - mae: 11.6018 - val_loss: 240.4373 - val_mae: 11.6487\n",
            "Epoch 5/70\n",
            "40/40 [==============================] - 7s 175ms/step - loss: 207.9913 - mae: 11.0314 - val_loss: 185.6389 - val_mae: 9.8587\n",
            "Epoch 6/70\n",
            "40/40 [==============================] - 7s 174ms/step - loss: 182.9815 - mae: 10.2921 - val_loss: 208.8221 - val_mae: 11.0323\n",
            "Epoch 7/70\n",
            "40/40 [==============================] - 7s 183ms/step - loss: 163.6060 - mae: 9.6699 - val_loss: 244.3720 - val_mae: 12.0130\n",
            "Epoch 8/70\n",
            "40/40 [==============================] - 7s 177ms/step - loss: 150.9341 - mae: 9.2406 - val_loss: 122.3452 - val_mae: 8.0862\n",
            "Epoch 9/70\n",
            "40/40 [==============================] - 7s 174ms/step - loss: 128.3564 - mae: 8.5726 - val_loss: 97.8236 - val_mae: 7.3372\n",
            "Epoch 10/70\n",
            "40/40 [==============================] - 7s 174ms/step - loss: 109.6355 - mae: 7.8725 - val_loss: 111.6696 - val_mae: 7.9557\n",
            "Epoch 11/70\n",
            "40/40 [==============================] - 7s 186ms/step - loss: 106.2952 - mae: 7.8784 - val_loss: 113.3726 - val_mae: 7.6541\n",
            "Epoch 12/70\n",
            "40/40 [==============================] - 7s 174ms/step - loss: 82.1298 - mae: 6.8318 - val_loss: 83.6916 - val_mae: 6.4939\n",
            "Epoch 13/70\n",
            "40/40 [==============================] - 7s 172ms/step - loss: 74.2540 - mae: 6.3119 - val_loss: 95.8268 - val_mae: 6.8304\n",
            "Epoch 14/70\n",
            "40/40 [==============================] - 8s 186ms/step - loss: 61.5868 - mae: 5.8538 - val_loss: 66.1835 - val_mae: 6.2457\n",
            "Epoch 15/70\n",
            "40/40 [==============================] - 7s 175ms/step - loss: 60.1404 - mae: 5.8236 - val_loss: 78.5374 - val_mae: 6.4150\n",
            "Epoch 16/70\n",
            "40/40 [==============================] - 7s 185ms/step - loss: 55.6956 - mae: 5.6041 - val_loss: 90.8450 - val_mae: 6.6083\n",
            "Epoch 17/70\n",
            "40/40 [==============================] - 7s 172ms/step - loss: 65.4617 - mae: 5.9640 - val_loss: 67.6707 - val_mae: 5.7685\n",
            "Epoch 18/70\n",
            "40/40 [==============================] - 7s 172ms/step - loss: 52.7020 - mae: 5.5220 - val_loss: 56.0533 - val_mae: 5.6305\n",
            "Epoch 19/70\n",
            "40/40 [==============================] - 7s 175ms/step - loss: 44.9192 - mae: 5.1163 - val_loss: 53.9206 - val_mae: 5.6632\n",
            "Epoch 20/70\n",
            "40/40 [==============================] - 7s 173ms/step - loss: 48.6009 - mae: 5.3037 - val_loss: 44.0316 - val_mae: 4.9124\n",
            "Epoch 21/70\n",
            "40/40 [==============================] - 7s 175ms/step - loss: 46.6610 - mae: 5.1500 - val_loss: 93.2838 - val_mae: 6.6630\n",
            "Epoch 22/70\n",
            "40/40 [==============================] - 7s 183ms/step - loss: 41.3117 - mae: 4.7838 - val_loss: 52.5788 - val_mae: 5.1789\n",
            "Epoch 23/70\n",
            "40/40 [==============================] - 7s 172ms/step - loss: 46.1323 - mae: 5.0771 - val_loss: 42.2464 - val_mae: 4.7980\n",
            "Epoch 24/70\n",
            "40/40 [==============================] - 7s 172ms/step - loss: 40.6194 - mae: 4.7696 - val_loss: 90.4156 - val_mae: 6.4436\n",
            "Epoch 25/70\n",
            "40/40 [==============================] - 7s 184ms/step - loss: 47.9441 - mae: 5.2265 - val_loss: 42.7764 - val_mae: 4.6809\n",
            "Epoch 26/70\n",
            "40/40 [==============================] - 7s 173ms/step - loss: 37.9377 - mae: 4.5516 - val_loss: 39.9439 - val_mae: 5.0866\n",
            "Epoch 27/70\n",
            "40/40 [==============================] - 7s 174ms/step - loss: 42.7052 - mae: 4.8324 - val_loss: 36.8370 - val_mae: 4.6031\n",
            "Epoch 28/70\n",
            "40/40 [==============================] - 7s 180ms/step - loss: 42.7797 - mae: 4.9042 - val_loss: 60.0994 - val_mae: 5.5222\n",
            "Epoch 29/70\n",
            "40/40 [==============================] - 7s 181ms/step - loss: 44.9160 - mae: 4.9428 - val_loss: 32.7368 - val_mae: 4.4862\n",
            "Epoch 30/70\n",
            "40/40 [==============================] - 7s 176ms/step - loss: 35.6602 - mae: 4.4259 - val_loss: 32.3129 - val_mae: 4.6484\n",
            "Epoch 31/70\n",
            "40/40 [==============================] - 7s 173ms/step - loss: 41.3434 - mae: 4.7078 - val_loss: 32.9632 - val_mae: 4.2068\n",
            "Epoch 32/70\n",
            "40/40 [==============================] - 7s 185ms/step - loss: 41.4364 - mae: 4.8257 - val_loss: 55.5563 - val_mae: 5.5367\n",
            "Epoch 33/70\n",
            "40/40 [==============================] - 7s 172ms/step - loss: 39.3467 - mae: 4.7056 - val_loss: 27.7029 - val_mae: 4.1262\n",
            "Epoch 34/70\n",
            "40/40 [==============================] - 7s 173ms/step - loss: 31.9896 - mae: 4.1080 - val_loss: 44.4013 - val_mae: 4.8269\n",
            "Epoch 35/70\n",
            "40/40 [==============================] - 7s 184ms/step - loss: 40.5499 - mae: 4.6566 - val_loss: 32.6636 - val_mae: 4.3109\n",
            "Epoch 36/70\n",
            "40/40 [==============================] - 7s 172ms/step - loss: 29.5628 - mae: 4.0455 - val_loss: 20.6813 - val_mae: 3.3904\n",
            "Epoch 37/70\n",
            "40/40 [==============================] - 7s 173ms/step - loss: 37.8253 - mae: 4.3948 - val_loss: 54.9594 - val_mae: 5.4849\n",
            "Epoch 38/70\n",
            "40/40 [==============================] - 8s 187ms/step - loss: 31.7996 - mae: 4.0995 - val_loss: 61.4269 - val_mae: 5.9190\n",
            "Epoch 39/70\n",
            "40/40 [==============================] - 7s 175ms/step - loss: 34.9022 - mae: 4.3375 - val_loss: 29.4317 - val_mae: 3.9066\n",
            "Epoch 40/70\n",
            "40/40 [==============================] - 7s 173ms/step - loss: 30.6557 - mae: 4.0978 - val_loss: 28.3484 - val_mae: 4.2186\n",
            "Epoch 41/70\n",
            "40/40 [==============================] - 7s 173ms/step - loss: 29.9575 - mae: 4.0847 - val_loss: 39.1519 - val_mae: 4.7141\n",
            "Epoch 42/70\n",
            "40/40 [==============================] - 7s 174ms/step - loss: 34.0596 - mae: 4.2623 - val_loss: 20.8088 - val_mae: 3.2272\n",
            "Epoch 43/70\n",
            "40/40 [==============================] - 7s 174ms/step - loss: 27.3898 - mae: 3.8717 - val_loss: 29.2306 - val_mae: 3.8779\n",
            "Epoch 44/70\n",
            "40/40 [==============================] - 7s 176ms/step - loss: 32.1700 - mae: 4.1840 - val_loss: 36.5118 - val_mae: 4.3361\n",
            "Epoch 45/70\n",
            "40/40 [==============================] - 7s 176ms/step - loss: 28.3031 - mae: 3.9170 - val_loss: 27.1890 - val_mae: 3.7605\n",
            "Epoch 46/70\n",
            "40/40 [==============================] - 7s 172ms/step - loss: 30.7179 - mae: 4.0247 - val_loss: 23.6614 - val_mae: 3.6803\n",
            "Epoch 47/70\n",
            "40/40 [==============================] - 7s 173ms/step - loss: 27.9152 - mae: 3.7984 - val_loss: 22.5860 - val_mae: 3.5622\n",
            "Epoch 48/70\n",
            "40/40 [==============================] - 7s 175ms/step - loss: 24.0955 - mae: 3.6337 - val_loss: 20.8405 - val_mae: 3.3686\n",
            "Epoch 49/70\n",
            "40/40 [==============================] - 7s 173ms/step - loss: 26.9829 - mae: 3.7613 - val_loss: 19.6584 - val_mae: 3.2645\n",
            "Epoch 50/70\n",
            "40/40 [==============================] - 7s 172ms/step - loss: 23.6875 - mae: 3.4801 - val_loss: 20.9959 - val_mae: 3.3601\n",
            "Epoch 51/70\n",
            "40/40 [==============================] - 7s 186ms/step - loss: 24.3270 - mae: 3.5692 - val_loss: 20.4793 - val_mae: 3.3101\n",
            "Epoch 52/70\n",
            "40/40 [==============================] - 7s 173ms/step - loss: 34.5763 - mae: 4.2023 - val_loss: 20.6785 - val_mae: 3.3454\n",
            "Epoch 53/70\n",
            "40/40 [==============================] - 7s 172ms/step - loss: 26.9042 - mae: 3.7566 - val_loss: 19.9572 - val_mae: 3.2969\n",
            "Epoch 54/70\n",
            "40/40 [==============================] - 7s 172ms/step - loss: 24.5813 - mae: 3.6481 - val_loss: 20.0162 - val_mae: 3.2939\n",
            "Epoch 55/70\n",
            "40/40 [==============================] - 7s 173ms/step - loss: 27.9456 - mae: 3.8310 - val_loss: 19.9029 - val_mae: 3.2907\n",
            "Epoch 56/70\n",
            "40/40 [==============================] - 7s 175ms/step - loss: 23.1325 - mae: 3.6347 - val_loss: 20.1935 - val_mae: 3.2829\n",
            "Epoch 57/70\n",
            "40/40 [==============================] - 7s 173ms/step - loss: 25.9812 - mae: 3.7565 - val_loss: 21.2182 - val_mae: 3.3234\n",
            "Epoch 58/70\n",
            "40/40 [==============================] - 7s 172ms/step - loss: 29.8838 - mae: 3.9420 - val_loss: 20.5184 - val_mae: 3.2701\n",
            "Epoch 59/70\n",
            "40/40 [==============================] - 7s 172ms/step - loss: 26.6072 - mae: 3.7173 - val_loss: 20.8828 - val_mae: 3.3156\n",
            "Epoch 60/70\n",
            "40/40 [==============================] - 7s 173ms/step - loss: 25.7969 - mae: 3.6814 - val_loss: 21.1355 - val_mae: 3.3210\n",
            "Epoch 61/70\n",
            "40/40 [==============================] - 7s 174ms/step - loss: 26.1972 - mae: 3.6852 - val_loss: 21.1362 - val_mae: 3.3137\n",
            "Epoch 62/70\n",
            "40/40 [==============================] - 7s 174ms/step - loss: 23.7733 - mae: 3.5952 - val_loss: 21.2361 - val_mae: 3.3219\n",
            "Epoch 63/70\n",
            "40/40 [==============================] - 7s 173ms/step - loss: 23.1280 - mae: 3.6063 - val_loss: 20.6189 - val_mae: 3.2832\n",
            "Epoch 64/70\n",
            "40/40 [==============================] - 7s 175ms/step - loss: 24.5741 - mae: 3.5870 - val_loss: 20.4870 - val_mae: 3.2694\n",
            "Epoch 65/70\n",
            "40/40 [==============================] - 7s 178ms/step - loss: 23.4910 - mae: 3.5310 - val_loss: 20.5373 - val_mae: 3.2721\n",
            "Epoch 66/70\n",
            "40/40 [==============================] - 7s 175ms/step - loss: 25.9913 - mae: 3.8269 - val_loss: 20.3513 - val_mae: 3.2642\n",
            "Epoch 67/70\n",
            "40/40 [==============================] - 7s 173ms/step - loss: 28.1332 - mae: 3.8667 - val_loss: 20.5007 - val_mae: 3.2759\n",
            "Epoch 68/70\n",
            "40/40 [==============================] - 7s 173ms/step - loss: 26.0826 - mae: 3.7337 - val_loss: 20.4439 - val_mae: 3.2757\n",
            "Epoch 69/70\n",
            "40/40 [==============================] - 7s 171ms/step - loss: 24.5583 - mae: 3.6109 - val_loss: 20.1343 - val_mae: 3.2502\n",
            "Epoch 70/70\n",
            "40/40 [==============================] - 7s 173ms/step - loss: 24.8647 - mae: 3.7533 - val_loss: 20.1442 - val_mae: 3.2546\n"
          ],
          "name": "stdout"
        }
      ]
    },
    {
      "cell_type": "code",
      "metadata": {
        "id": "XqCmXk84d85S"
      },
      "source": [
        "def plot_history(history):\r\n",
        "    fig, axs = plt.subplots(1,2, figsize = (15,6))\r\n",
        "    axs[0].plot(history.history['mae'])\r\n",
        "    axs[0].plot(history.history['val_mae'])\r\n",
        "    axs[0].set_ylabel('MAE')\r\n",
        "    axs[0].set_xlabel('epoch')\r\n",
        "    axs[0].legend(['train', 'val'], loc='upper left')\r\n",
        "    axs[0].set_ylim(3,10)\r\n",
        "    \r\n",
        "    axs[1].plot(history.history['loss'])\r\n",
        "    axs[1].plot(history.history['val_loss'])\r\n",
        "    axs[1].set_ylabel('MSE')\r\n",
        "    axs[1].set_xlabel('epoch')\r\n",
        "    axs[1].legend(['train', 'val'], loc='upper right')"
      ],
      "execution_count": 19,
      "outputs": []
    },
    {
      "cell_type": "code",
      "metadata": {
        "colab": {
          "base_uri": "https://localhost:8080/",
          "height": 392
        },
        "id": "58v0jRoKeBBw",
        "outputId": "702b2aa7-b0c9-465f-9d7c-77eede1f1702"
      },
      "source": [
        "plot_history(history)\r\n"
      ],
      "execution_count": 20,
      "outputs": [
        {
          "output_type": "display_data",
          "data": {
            "image/png": "[encoded data removed]",
            "text/plain": [
              "<Figure size 1080x432 with 2 Axes>"
            ]
          },
          "metadata": {
            "tags": [],
            "needs_background": "light"
          }
        }
      ]
    },
    {
      "cell_type": "code",
      "metadata": {
        "colab": {
          "base_uri": "https://localhost:8080/"
        },
        "id": "5DBQvB10eD0i",
        "outputId": "8147d874-fb1c-4de5-9e1e-0b73a18df75d"
      },
      "source": [
        "model = load_model(model_checkpoint)\r\n",
        "model.evaluate(valid_x, valid_y)"
      ],
      "execution_count": 21,
      "outputs": [
        {
          "output_type": "stream",
          "text": [
            "10/10 [==============================] - 0s 33ms/step - loss: 19.6584 - mae: 3.2645\n"
          ],
          "name": "stdout"
        },
        {
          "output_type": "execute_result",
          "data": {
            "text/plain": [
              "[19.658411026000977, 3.2645387649536133]"
            ]
          },
          "metadata": {
            "tags": []
          },
          "execution_count": 21
        }
      ]
    },
    {
      "cell_type": "code",
      "metadata": {
        "id": "Pk32KgHMeEmr"
      },
      "source": [
        "\r\n",
        "def predict_test(model, test_paths, segmentation = True, SEGMENT_SIZE = 60, SEGMENT_STRIDE = 30, img_size = 256):\r\n",
        "  preds = []\r\n",
        "  for i,path in enumerate(test_paths):\r\n",
        "    audio, sr = librosa.load(path)\r\n",
        "    duration = audio.shape[0]/sr\r\n",
        "\r\n",
        "    if segmentation==False:\r\n",
        "      mel_spec = mel_spectrogram(audio, sr)\r\n",
        "      x = tf.image.resize(mel_spec[...,np.newaxis], (img_size, img_size))\r\n",
        "      x = x[np.newaxis,...]\r\n",
        "\r\n",
        "      y_hat = model.predict(x)\r\n",
        "      preds.append(y_hat)\r\n",
        "    \r\n",
        "    else:\r\n",
        "      temp = []\r\n",
        "      t_min = 0\r\n",
        "      finish = False\r\n",
        "      \r\n",
        "      print (\"Dividing audio %d\" %(i+1))\r\n",
        "      while t_min < duration:\r\n",
        "        t_max = t_min + SEGMENT_SIZE\r\n",
        "        \r\n",
        "        if t_max > duration:\r\n",
        "          t_max = duration\r\n",
        "          finish = True\r\n",
        "\r\n",
        "        audio_clipped = clip_audio(audio, sr, t_min, t_max)\r\n",
        "        mel_spec = mel_spectrogram(audio_clipped, sr)\r\n",
        "        \r\n",
        "        img = tf.image.resize(mel_spec[...,np.newaxis],(img_size, img_size))\r\n",
        "\r\n",
        "        temp.append(img)\r\n",
        "\r\n",
        "        if finish==True:\r\n",
        "          break\r\n",
        "\r\n",
        "        t_min = t_min + SEGMENT_STRIDE\r\n",
        "\r\n",
        "      temp = np.array(temp)\r\n",
        "      y_hat = model.predict(temp)\r\n",
        "      \r\n",
        "      \r\n",
        "      y_hat = np.mean(y_hat)\r\n",
        "      preds.append(y_hat)\r\n",
        "      \r\n",
        "\r\n",
        "  return preds"
      ],
      "execution_count": 22,
      "outputs": []
    },
    {
      "cell_type": "code",
      "metadata": {
        "id": "v_-T6DjyeLyx"
      },
      "source": [
        "test_paths = dev_data['Path'].values\r\n",
        "test_labels = dev_data['BDI'].values"
      ],
      "execution_count": 23,
      "outputs": []
    },
    {
      "cell_type": "code",
      "metadata": {
        "colab": {
          "base_uri": "https://localhost:8080/"
        },
        "id": "IbLchwf-eMo_",
        "outputId": "5c894b71-3b1a-4c34-a412-7c8c665657ba"
      },
      "source": [
        "test_preds = predict_test(model, test_paths)"
      ],
      "execution_count": 24,
      "outputs": [
        {
          "output_type": "stream",
          "text": [
            "/usr/local/lib/python3.7/dist-packages/librosa/core/audio.py:162: UserWarning: PySoundFile failed. Trying audioread instead.\n",
            "  warnings.warn(\"PySoundFile failed. Trying audioread instead.\")\n"
          ],
          "name": "stderr"
        },
        {
          "output_type": "stream",
          "text": [
            "Dividing audio 1\n"
          ],
          "name": "stdout"
        },
        {
          "output_type": "stream",
          "text": [
            "/usr/local/lib/python3.7/dist-packages/librosa/core/audio.py:162: UserWarning: PySoundFile failed. Trying audioread instead.\n",
            "  warnings.warn(\"PySoundFile failed. Trying audioread instead.\")\n"
          ],
          "name": "stderr"
        },
        {
          "output_type": "stream",
          "text": [
            "Dividing audio 2\n"
          ],
          "name": "stdout"
        },
        {
          "output_type": "stream",
          "text": [
            "/usr/local/lib/python3.7/dist-packages/librosa/core/audio.py:162: UserWarning: PySoundFile failed. Trying audioread instead.\n",
            "  warnings.warn(\"PySoundFile failed. Trying audioread instead.\")\n"
          ],
          "name": "stderr"
        },
        {
          "output_type": "stream",
          "text": [
            "Dividing audio 3\n"
          ],
          "name": "stdout"
        },
        {
          "output_type": "stream",
          "text": [
            "/usr/local/lib/python3.7/dist-packages/librosa/core/audio.py:162: UserWarning: PySoundFile failed. Trying audioread instead.\n",
            "  warnings.warn(\"PySoundFile failed. Trying audioread instead.\")\n"
          ],
          "name": "stderr"
        },
        {
          "output_type": "stream",
          "text": [
            "Dividing audio 4\n"
          ],
          "name": "stdout"
        },
        {
          "output_type": "stream",
          "text": [
            "/usr/local/lib/python3.7/dist-packages/librosa/core/audio.py:162: UserWarning: PySoundFile failed. Trying audioread instead.\n",
            "  warnings.warn(\"PySoundFile failed. Trying audioread instead.\")\n"
          ],
          "name": "stderr"
        },
        {
          "output_type": "stream",
          "text": [
            "Dividing audio 5\n"
          ],
          "name": "stdout"
        },
        {
          "output_type": "stream",
          "text": [
            "/usr/local/lib/python3.7/dist-packages/librosa/core/audio.py:162: UserWarning: PySoundFile failed. Trying audioread instead.\n",
            "  warnings.warn(\"PySoundFile failed. Trying audioread instead.\")\n"
          ],
          "name": "stderr"
        },
        {
          "output_type": "stream",
          "text": [
            "Dividing audio 6\n"
          ],
          "name": "stdout"
        },
        {
          "output_type": "stream",
          "text": [
            "/usr/local/lib/python3.7/dist-packages/librosa/core/audio.py:162: UserWarning: PySoundFile failed. Trying audioread instead.\n",
            "  warnings.warn(\"PySoundFile failed. Trying audioread instead.\")\n"
          ],
          "name": "stderr"
        },
        {
          "output_type": "stream",
          "text": [
            "Dividing audio 7\n"
          ],
          "name": "stdout"
        },
        {
          "output_type": "stream",
          "text": [
            "/usr/local/lib/python3.7/dist-packages/librosa/core/audio.py:162: UserWarning: PySoundFile failed. Trying audioread instead.\n",
            "  warnings.warn(\"PySoundFile failed. Trying audioread instead.\")\n"
          ],
          "name": "stderr"
        },
        {
          "output_type": "stream",
          "text": [
            "Dividing audio 8\n"
          ],
          "name": "stdout"
        },
        {
          "output_type": "stream",
          "text": [
            "/usr/local/lib/python3.7/dist-packages/librosa/core/audio.py:162: UserWarning: PySoundFile failed. Trying audioread instead.\n",
            "  warnings.warn(\"PySoundFile failed. Trying audioread instead.\")\n"
          ],
          "name": "stderr"
        },
        {
          "output_type": "stream",
          "text": [
            "Dividing audio 9\n"
          ],
          "name": "stdout"
        },
        {
          "output_type": "stream",
          "text": [
            "/usr/local/lib/python3.7/dist-packages/librosa/core/audio.py:162: UserWarning: PySoundFile failed. Trying audioread instead.\n",
            "  warnings.warn(\"PySoundFile failed. Trying audioread instead.\")\n"
          ],
          "name": "stderr"
        },
        {
          "output_type": "stream",
          "text": [
            "Dividing audio 10\n"
          ],
          "name": "stdout"
        },
        {
          "output_type": "stream",
          "text": [
            "/usr/local/lib/python3.7/dist-packages/librosa/core/audio.py:162: UserWarning: PySoundFile failed. Trying audioread instead.\n",
            "  warnings.warn(\"PySoundFile failed. Trying audioread instead.\")\n"
          ],
          "name": "stderr"
        },
        {
          "output_type": "stream",
          "text": [
            "Dividing audio 11\n"
          ],
          "name": "stdout"
        },
        {
          "output_type": "stream",
          "text": [
            "/usr/local/lib/python3.7/dist-packages/librosa/core/audio.py:162: UserWarning: PySoundFile failed. Trying audioread instead.\n",
            "  warnings.warn(\"PySoundFile failed. Trying audioread instead.\")\n"
          ],
          "name": "stderr"
        },
        {
          "output_type": "stream",
          "text": [
            "Dividing audio 12\n"
          ],
          "name": "stdout"
        },
        {
          "output_type": "stream",
          "text": [
            "/usr/local/lib/python3.7/dist-packages/librosa/core/audio.py:162: UserWarning: PySoundFile failed. Trying audioread instead.\n",
            "  warnings.warn(\"PySoundFile failed. Trying audioread instead.\")\n"
          ],
          "name": "stderr"
        },
        {
          "output_type": "stream",
          "text": [
            "Dividing audio 13\n"
          ],
          "name": "stdout"
        },
        {
          "output_type": "stream",
          "text": [
            "/usr/local/lib/python3.7/dist-packages/librosa/core/audio.py:162: UserWarning: PySoundFile failed. Trying audioread instead.\n",
            "  warnings.warn(\"PySoundFile failed. Trying audioread instead.\")\n"
          ],
          "name": "stderr"
        },
        {
          "output_type": "stream",
          "text": [
            "Dividing audio 14\n"
          ],
          "name": "stdout"
        },
        {
          "output_type": "stream",
          "text": [
            "/usr/local/lib/python3.7/dist-packages/librosa/core/audio.py:162: UserWarning: PySoundFile failed. Trying audioread instead.\n",
            "  warnings.warn(\"PySoundFile failed. Trying audioread instead.\")\n"
          ],
          "name": "stderr"
        },
        {
          "output_type": "stream",
          "text": [
            "Dividing audio 15\n"
          ],
          "name": "stdout"
        },
        {
          "output_type": "stream",
          "text": [
            "/usr/local/lib/python3.7/dist-packages/librosa/core/audio.py:162: UserWarning: PySoundFile failed. Trying audioread instead.\n",
            "  warnings.warn(\"PySoundFile failed. Trying audioread instead.\")\n"
          ],
          "name": "stderr"
        },
        {
          "output_type": "stream",
          "text": [
            "Dividing audio 16\n"
          ],
          "name": "stdout"
        },
        {
          "output_type": "stream",
          "text": [
            "/usr/local/lib/python3.7/dist-packages/librosa/core/audio.py:162: UserWarning: PySoundFile failed. Trying audioread instead.\n",
            "  warnings.warn(\"PySoundFile failed. Trying audioread instead.\")\n"
          ],
          "name": "stderr"
        },
        {
          "output_type": "stream",
          "text": [
            "Dividing audio 17\n"
          ],
          "name": "stdout"
        },
        {
          "output_type": "stream",
          "text": [
            "/usr/local/lib/python3.7/dist-packages/librosa/core/audio.py:162: UserWarning: PySoundFile failed. Trying audioread instead.\n",
            "  warnings.warn(\"PySoundFile failed. Trying audioread instead.\")\n"
          ],
          "name": "stderr"
        },
        {
          "output_type": "stream",
          "text": [
            "Dividing audio 18\n"
          ],
          "name": "stdout"
        },
        {
          "output_type": "stream",
          "text": [
            "/usr/local/lib/python3.7/dist-packages/librosa/core/audio.py:162: UserWarning: PySoundFile failed. Trying audioread instead.\n",
            "  warnings.warn(\"PySoundFile failed. Trying audioread instead.\")\n"
          ],
          "name": "stderr"
        },
        {
          "output_type": "stream",
          "text": [
            "Dividing audio 19\n"
          ],
          "name": "stdout"
        },
        {
          "output_type": "stream",
          "text": [
            "/usr/local/lib/python3.7/dist-packages/librosa/core/audio.py:162: UserWarning: PySoundFile failed. Trying audioread instead.\n",
            "  warnings.warn(\"PySoundFile failed. Trying audioread instead.\")\n"
          ],
          "name": "stderr"
        },
        {
          "output_type": "stream",
          "text": [
            "Dividing audio 20\n"
          ],
          "name": "stdout"
        },
        {
          "output_type": "stream",
          "text": [
            "/usr/local/lib/python3.7/dist-packages/librosa/core/audio.py:162: UserWarning: PySoundFile failed. Trying audioread instead.\n",
            "  warnings.warn(\"PySoundFile failed. Trying audioread instead.\")\n"
          ],
          "name": "stderr"
        },
        {
          "output_type": "stream",
          "text": [
            "Dividing audio 21\n"
          ],
          "name": "stdout"
        },
        {
          "output_type": "stream",
          "text": [
            "/usr/local/lib/python3.7/dist-packages/librosa/core/audio.py:162: UserWarning: PySoundFile failed. Trying audioread instead.\n",
            "  warnings.warn(\"PySoundFile failed. Trying audioread instead.\")\n"
          ],
          "name": "stderr"
        },
        {
          "output_type": "stream",
          "text": [
            "Dividing audio 22\n"
          ],
          "name": "stdout"
        },
        {
          "output_type": "stream",
          "text": [
            "/usr/local/lib/python3.7/dist-packages/librosa/core/audio.py:162: UserWarning: PySoundFile failed. Trying audioread instead.\n",
            "  warnings.warn(\"PySoundFile failed. Trying audioread instead.\")\n"
          ],
          "name": "stderr"
        },
        {
          "output_type": "stream",
          "text": [
            "Dividing audio 23\n"
          ],
          "name": "stdout"
        },
        {
          "output_type": "stream",
          "text": [
            "/usr/local/lib/python3.7/dist-packages/librosa/core/audio.py:162: UserWarning: PySoundFile failed. Trying audioread instead.\n",
            "  warnings.warn(\"PySoundFile failed. Trying audioread instead.\")\n"
          ],
          "name": "stderr"
        },
        {
          "output_type": "stream",
          "text": [
            "Dividing audio 24\n"
          ],
          "name": "stdout"
        },
        {
          "output_type": "stream",
          "text": [
            "/usr/local/lib/python3.7/dist-packages/librosa/core/audio.py:162: UserWarning: PySoundFile failed. Trying audioread instead.\n",
            "  warnings.warn(\"PySoundFile failed. Trying audioread instead.\")\n"
          ],
          "name": "stderr"
        },
        {
          "output_type": "stream",
          "text": [
            "Dividing audio 25\n"
          ],
          "name": "stdout"
        },
        {
          "output_type": "stream",
          "text": [
            "/usr/local/lib/python3.7/dist-packages/librosa/core/audio.py:162: UserWarning: PySoundFile failed. Trying audioread instead.\n",
            "  warnings.warn(\"PySoundFile failed. Trying audioread instead.\")\n"
          ],
          "name": "stderr"
        },
        {
          "output_type": "stream",
          "text": [
            "Dividing audio 26\n"
          ],
          "name": "stdout"
        },
        {
          "output_type": "stream",
          "text": [
            "/usr/local/lib/python3.7/dist-packages/librosa/core/audio.py:162: UserWarning: PySoundFile failed. Trying audioread instead.\n",
            "  warnings.warn(\"PySoundFile failed. Trying audioread instead.\")\n"
          ],
          "name": "stderr"
        },
        {
          "output_type": "stream",
          "text": [
            "Dividing audio 27\n"
          ],
          "name": "stdout"
        },
        {
          "output_type": "stream",
          "text": [
            "/usr/local/lib/python3.7/dist-packages/librosa/core/audio.py:162: UserWarning: PySoundFile failed. Trying audioread instead.\n",
            "  warnings.warn(\"PySoundFile failed. Trying audioread instead.\")\n"
          ],
          "name": "stderr"
        },
        {
          "output_type": "stream",
          "text": [
            "Dividing audio 28\n"
          ],
          "name": "stdout"
        },
        {
          "output_type": "stream",
          "text": [
            "/usr/local/lib/python3.7/dist-packages/librosa/core/audio.py:162: UserWarning: PySoundFile failed. Trying audioread instead.\n",
            "  warnings.warn(\"PySoundFile failed. Trying audioread instead.\")\n"
          ],
          "name": "stderr"
        },
        {
          "output_type": "stream",
          "text": [
            "Dividing audio 29\n"
          ],
          "name": "stdout"
        },
        {
          "output_type": "stream",
          "text": [
            "/usr/local/lib/python3.7/dist-packages/librosa/core/audio.py:162: UserWarning: PySoundFile failed. Trying audioread instead.\n",
            "  warnings.warn(\"PySoundFile failed. Trying audioread instead.\")\n"
          ],
          "name": "stderr"
        },
        {
          "output_type": "stream",
          "text": [
            "Dividing audio 30\n"
          ],
          "name": "stdout"
        },
        {
          "output_type": "stream",
          "text": [
            "/usr/local/lib/python3.7/dist-packages/librosa/core/audio.py:162: UserWarning: PySoundFile failed. Trying audioread instead.\n",
            "  warnings.warn(\"PySoundFile failed. Trying audioread instead.\")\n"
          ],
          "name": "stderr"
        },
        {
          "output_type": "stream",
          "text": [
            "Dividing audio 31\n"
          ],
          "name": "stdout"
        },
        {
          "output_type": "stream",
          "text": [
            "/usr/local/lib/python3.7/dist-packages/librosa/core/audio.py:162: UserWarning: PySoundFile failed. Trying audioread instead.\n",
            "  warnings.warn(\"PySoundFile failed. Trying audioread instead.\")\n"
          ],
          "name": "stderr"
        },
        {
          "output_type": "stream",
          "text": [
            "Dividing audio 32\n"
          ],
          "name": "stdout"
        },
        {
          "output_type": "stream",
          "text": [
            "/usr/local/lib/python3.7/dist-packages/librosa/core/audio.py:162: UserWarning: PySoundFile failed. Trying audioread instead.\n",
            "  warnings.warn(\"PySoundFile failed. Trying audioread instead.\")\n"
          ],
          "name": "stderr"
        },
        {
          "output_type": "stream",
          "text": [
            "Dividing audio 33\n"
          ],
          "name": "stdout"
        },
        {
          "output_type": "stream",
          "text": [
            "/usr/local/lib/python3.7/dist-packages/librosa/core/audio.py:162: UserWarning: PySoundFile failed. Trying audioread instead.\n",
            "  warnings.warn(\"PySoundFile failed. Trying audioread instead.\")\n"
          ],
          "name": "stderr"
        },
        {
          "output_type": "stream",
          "text": [
            "Dividing audio 34\n"
          ],
          "name": "stdout"
        },
        {
          "output_type": "stream",
          "text": [
            "/usr/local/lib/python3.7/dist-packages/librosa/core/audio.py:162: UserWarning: PySoundFile failed. Trying audioread instead.\n",
            "  warnings.warn(\"PySoundFile failed. Trying audioread instead.\")\n"
          ],
          "name": "stderr"
        },
        {
          "output_type": "stream",
          "text": [
            "Dividing audio 35\n"
          ],
          "name": "stdout"
        },
        {
          "output_type": "stream",
          "text": [
            "/usr/local/lib/python3.7/dist-packages/librosa/core/audio.py:162: UserWarning: PySoundFile failed. Trying audioread instead.\n",
            "  warnings.warn(\"PySoundFile failed. Trying audioread instead.\")\n"
          ],
          "name": "stderr"
        },
        {
          "output_type": "stream",
          "text": [
            "Dividing audio 36\n"
          ],
          "name": "stdout"
        },
        {
          "output_type": "stream",
          "text": [
            "/usr/local/lib/python3.7/dist-packages/librosa/core/audio.py:162: UserWarning: PySoundFile failed. Trying audioread instead.\n",
            "  warnings.warn(\"PySoundFile failed. Trying audioread instead.\")\n"
          ],
          "name": "stderr"
        },
        {
          "output_type": "stream",
          "text": [
            "Dividing audio 37\n"
          ],
          "name": "stdout"
        },
        {
          "output_type": "stream",
          "text": [
            "/usr/local/lib/python3.7/dist-packages/librosa/core/audio.py:162: UserWarning: PySoundFile failed. Trying audioread instead.\n",
            "  warnings.warn(\"PySoundFile failed. Trying audioread instead.\")\n"
          ],
          "name": "stderr"
        },
        {
          "output_type": "stream",
          "text": [
            "Dividing audio 38\n"
          ],
          "name": "stdout"
        },
        {
          "output_type": "stream",
          "text": [
            "/usr/local/lib/python3.7/dist-packages/librosa/core/audio.py:162: UserWarning: PySoundFile failed. Trying audioread instead.\n",
            "  warnings.warn(\"PySoundFile failed. Trying audioread instead.\")\n"
          ],
          "name": "stderr"
        },
        {
          "output_type": "stream",
          "text": [
            "Dividing audio 39\n"
          ],
          "name": "stdout"
        },
        {
          "output_type": "stream",
          "text": [
            "/usr/local/lib/python3.7/dist-packages/librosa/core/audio.py:162: UserWarning: PySoundFile failed. Trying audioread instead.\n",
            "  warnings.warn(\"PySoundFile failed. Trying audioread instead.\")\n"
          ],
          "name": "stderr"
        },
        {
          "output_type": "stream",
          "text": [
            "Dividing audio 40\n"
          ],
          "name": "stdout"
        },
        {
          "output_type": "stream",
          "text": [
            "/usr/local/lib/python3.7/dist-packages/librosa/core/audio.py:162: UserWarning: PySoundFile failed. Trying audioread instead.\n",
            "  warnings.warn(\"PySoundFile failed. Trying audioread instead.\")\n"
          ],
          "name": "stderr"
        },
        {
          "output_type": "stream",
          "text": [
            "Dividing audio 41\n"
          ],
          "name": "stdout"
        },
        {
          "output_type": "stream",
          "text": [
            "/usr/local/lib/python3.7/dist-packages/librosa/core/audio.py:162: UserWarning: PySoundFile failed. Trying audioread instead.\n",
            "  warnings.warn(\"PySoundFile failed. Trying audioread instead.\")\n"
          ],
          "name": "stderr"
        },
        {
          "output_type": "stream",
          "text": [
            "Dividing audio 42\n"
          ],
          "name": "stdout"
        },
        {
          "output_type": "stream",
          "text": [
            "/usr/local/lib/python3.7/dist-packages/librosa/core/audio.py:162: UserWarning: PySoundFile failed. Trying audioread instead.\n",
            "  warnings.warn(\"PySoundFile failed. Trying audioread instead.\")\n"
          ],
          "name": "stderr"
        },
        {
          "output_type": "stream",
          "text": [
            "Dividing audio 43\n"
          ],
          "name": "stdout"
        },
        {
          "output_type": "stream",
          "text": [
            "/usr/local/lib/python3.7/dist-packages/librosa/core/audio.py:162: UserWarning: PySoundFile failed. Trying audioread instead.\n",
            "  warnings.warn(\"PySoundFile failed. Trying audioread instead.\")\n"
          ],
          "name": "stderr"
        },
        {
          "output_type": "stream",
          "text": [
            "Dividing audio 44\n"
          ],
          "name": "stdout"
        },
        {
          "output_type": "stream",
          "text": [
            "/usr/local/lib/python3.7/dist-packages/librosa/core/audio.py:162: UserWarning: PySoundFile failed. Trying audioread instead.\n",
            "  warnings.warn(\"PySoundFile failed. Trying audioread instead.\")\n"
          ],
          "name": "stderr"
        },
        {
          "output_type": "stream",
          "text": [
            "Dividing audio 45\n"
          ],
          "name": "stdout"
        },
        {
          "output_type": "stream",
          "text": [
            "/usr/local/lib/python3.7/dist-packages/librosa/core/audio.py:162: UserWarning: PySoundFile failed. Trying audioread instead.\n",
            "  warnings.warn(\"PySoundFile failed. Trying audioread instead.\")\n"
          ],
          "name": "stderr"
        },
        {
          "output_type": "stream",
          "text": [
            "Dividing audio 46\n"
          ],
          "name": "stdout"
        },
        {
          "output_type": "stream",
          "text": [
            "/usr/local/lib/python3.7/dist-packages/librosa/core/audio.py:162: UserWarning: PySoundFile failed. Trying audioread instead.\n",
            "  warnings.warn(\"PySoundFile failed. Trying audioread instead.\")\n"
          ],
          "name": "stderr"
        },
        {
          "output_type": "stream",
          "text": [
            "Dividing audio 47\n"
          ],
          "name": "stdout"
        },
        {
          "output_type": "stream",
          "text": [
            "/usr/local/lib/python3.7/dist-packages/librosa/core/audio.py:162: UserWarning: PySoundFile failed. Trying audioread instead.\n",
            "  warnings.warn(\"PySoundFile failed. Trying audioread instead.\")\n"
          ],
          "name": "stderr"
        },
        {
          "output_type": "stream",
          "text": [
            "Dividing audio 48\n"
          ],
          "name": "stdout"
        },
        {
          "output_type": "stream",
          "text": [
            "/usr/local/lib/python3.7/dist-packages/librosa/core/audio.py:162: UserWarning: PySoundFile failed. Trying audioread instead.\n",
            "  warnings.warn(\"PySoundFile failed. Trying audioread instead.\")\n"
          ],
          "name": "stderr"
        },
        {
          "output_type": "stream",
          "text": [
            "Dividing audio 49\n"
          ],
          "name": "stdout"
        },
        {
          "output_type": "stream",
          "text": [
            "/usr/local/lib/python3.7/dist-packages/librosa/core/audio.py:162: UserWarning: PySoundFile failed. Trying audioread instead.\n",
            "  warnings.warn(\"PySoundFile failed. Trying audioread instead.\")\n"
          ],
          "name": "stderr"
        },
        {
          "output_type": "stream",
          "text": [
            "Dividing audio 50\n"
          ],
          "name": "stdout"
        },
        {
          "output_type": "stream",
          "text": [
            "/usr/local/lib/python3.7/dist-packages/librosa/core/audio.py:162: UserWarning: PySoundFile failed. Trying audioread instead.\n",
            "  warnings.warn(\"PySoundFile failed. Trying audioread instead.\")\n"
          ],
          "name": "stderr"
        },
        {
          "output_type": "stream",
          "text": [
            "Dividing audio 51\n"
          ],
          "name": "stdout"
        }
      ]
    },
    {
      "cell_type": "code",
      "metadata": {
        "id": "4TKG-XZGePtp"
      },
      "source": [
        "from sklearn.metrics import r2_score, mean_squared_error, mean_absolute_error\r\n",
        "def evaluate_test(test_y, test_pred):\r\n",
        "  mse = mean_squared_error(test_y, test_pred)\r\n",
        "  mae = mean_absolute_error(test_y, test_pred)\r\n",
        "  r2 = r2_score(test_y, test_pred)\r\n",
        "\r\n",
        "  print (\"RMSE = %.3f\" %(np.sqrt(mse)))\r\n",
        "  print (\"MAE  = %.3f\" %mae)\r\n",
        "  print (\"R2   = %.3f\" %r2)"
      ],
      "execution_count": 25,
      "outputs": []
    },
    {
      "cell_type": "code",
      "metadata": {
        "colab": {
          "base_uri": "https://localhost:8080/"
        },
        "id": "QjI8r-GceTSq",
        "outputId": "615dad93-2cf8-4fb6-97ee-8a9fbbb6b1ab"
      },
      "source": [
        "evaluate_test(test_labels, test_preds)"
      ],
      "execution_count": 26,
      "outputs": [
        {
          "output_type": "stream",
          "text": [
            "RMSE = 9.667\n",
            "MAE  = 7.999\n",
            "R2   = 0.375\n"
          ],
          "name": "stdout"
        }
      ]
    },
    {
      "cell_type": "code",
      "metadata": {
        "colab": {
          "base_uri": "https://localhost:8080/"
        },
        "id": "sinNaOQjeVqD",
        "outputId": "d33ca98f-50d3-404f-8121-4f426af41996"
      },
      "source": [
        "np.corrcoef(test_labels, test_preds)[0,1]**2"
      ],
      "execution_count": 28,
      "outputs": [
        {
          "output_type": "execute_result",
          "data": {
            "text/plain": [
              "0.387302390823768"
            ]
          },
          "metadata": {
            "tags": []
          },
          "execution_count": 28
        }
      ]
    },
    {
      "cell_type": "code",
      "metadata": {
        "id": "KeUVqKeMeYYm"
      },
      "source": [
        "\r\n",
        "sns.boxplot(x = test_labels, y = test_preds )\r\n",
        "plt.xlabel(\"Test Labels\")\r\n",
        "plt.ylabel(\"Predicted labels\")\r\n",
        "plt.show()"
      ],
      "execution_count": null,
      "outputs": []
    },
    {
      "cell_type": "code",
      "metadata": {
        "id": "s3brLlXeubGk"
      },
      "source": [
        ""
      ],
      "execution_count": null,
      "outputs": []
    }
  ]
}